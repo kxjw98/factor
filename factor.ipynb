{
  "cells": [
    {
      "cell_type": "markdown",
      "metadata": {
        "id": "view-in-github",
        "colab_type": "text"
      },
      "source": [
        "<a href=\"https://colab.research.google.com/github/kxjw98/factor/blob/main/factor.ipynb\" target=\"_parent\"><img src=\"https://colab.research.google.com/assets/colab-badge.svg\" alt=\"Open In Colab\"/></a>"
      ]
    },
    {
      "cell_type": "code",
      "execution_count": null,
      "metadata": {
        "colab": {
          "base_uri": "https://localhost:8080/"
        },
        "id": "zwN9XvxrktyL",
        "outputId": "548ec3e8-f254-4857-e2e6-45e73f891901"
      },
      "outputs": [
        {
          "name": "stdout",
          "output_type": "stream",
          "text": [
            "Installing collected packages: factor-analyzer\n",
            "Successfully installed factor-analyzer-0.4.0\n"
          ]
        }
      ],
      "source": [
        "!pip install factor_analyzer"
      ]
    },
    {
      "cell_type": "code",
      "execution_count": null,
      "metadata": {
        "id": "4kRDbduQqEC-"
      },
      "outputs": [],
      "source": [
        "#librerias\n",
        "import pandas as pd\n",
        "import matplotlib.pyplot as plt\n",
        "import numpy as np\n",
        "from scipy.stats import bartlett"
      ]
    },
    {
      "cell_type": "code",
      "execution_count": null,
      "metadata": {
        "colab": {
          "base_uri": "https://localhost:8080/",
          "height": 299
        },
        "id": "eX5wR2ctsycQ",
        "outputId": "20f952d4-0b70-4b7e-a73e-047ac7f51ff5"
      },
      "outputs": [
        {
          "output_type": "execute_result",
          "data": {
            "text/plain": [
              "   total_acci  fatal_abs  no_fatal_abs  material_abs     enero    febrero  \\\n",
              "0     14818.0   0.755837      6.579835     92.664327  8.719125   9.407477   \n",
              "1     13990.0   0.872051      6.997856     92.130093  7.033595   7.062187   \n",
              "2     15185.0   0.961475      6.499835     92.538690  8.264735   7.658874   \n",
              "3     13402.0   1.134159      7.394419     91.471422  8.961349   9.550813   \n",
              "4     10050.0   1.462687      8.318408     90.218906  8.706468  10.139304   \n",
              "\n",
              "      marzo     abril      mayo     junio  ...  colision_animal  \\\n",
              "0  8.550412  8.705628  9.063301  7.659603  ...         0.310433   \n",
              "1  8.191565  7.526805  7.190851  7.762688  ...         0.278771   \n",
              "2  8.890352  8.047415  7.922292  8.580836  ...         0.217320   \n",
              "3  9.976123  8.356962  8.767348  7.819728  ...         0.231309   \n",
              "4  8.975124  6.955224  6.696517  7.711443  ...         0.437811   \n",
              "\n",
              "   colision_objeto_fijo  volcadura  caida_pasajero  salida_camino  incendio  \\\n",
              "0             15.643137   1.585909        0.485896       7.058982  0.087731   \n",
              "1             13.466762   1.844174        0.607577       7.977127  0.057184   \n",
              "2             14.507738   1.712216        0.579519       7.803754  0.111953   \n",
              "3             17.460081   1.947471        0.626772       8.125653  0.074616   \n",
              "4             23.582090   2.716418        0.417910       6.288557  0.189055   \n",
              "\n",
              "   colision_ferrocarril  colision_con_motocicleta  colision_ciclista  \\\n",
              "0              0.080983                  4.926441           0.614118   \n",
              "1              0.107219                  5.067906           0.514653   \n",
              "2              0.052684                  5.735924           0.599276   \n",
              "3              0.067154                  6.185644           0.716311   \n",
              "4              0.029851                  7.164179           0.855721   \n",
              "\n",
              "   otro_tipo_de_accidente  \n",
              "0                0.593872  \n",
              "1                0.750536  \n",
              "2                0.302931  \n",
              "3                0.216386  \n",
              "4                0.328358  \n",
              "\n",
              "[5 rows x 62 columns]"
            ],
            "text/html": [
              "\n",
              "  <div id=\"df-e2c423f6-56ed-4ec0-b483-b431b2dae02f\">\n",
              "    <div class=\"colab-df-container\">\n",
              "      <div>\n",
              "<style scoped>\n",
              "    .dataframe tbody tr th:only-of-type {\n",
              "        vertical-align: middle;\n",
              "    }\n",
              "\n",
              "    .dataframe tbody tr th {\n",
              "        vertical-align: top;\n",
              "    }\n",
              "\n",
              "    .dataframe thead th {\n",
              "        text-align: right;\n",
              "    }\n",
              "</style>\n",
              "<table border=\"1\" class=\"dataframe\">\n",
              "  <thead>\n",
              "    <tr style=\"text-align: right;\">\n",
              "      <th></th>\n",
              "      <th>total_acci</th>\n",
              "      <th>fatal_abs</th>\n",
              "      <th>no_fatal_abs</th>\n",
              "      <th>material_abs</th>\n",
              "      <th>enero</th>\n",
              "      <th>febrero</th>\n",
              "      <th>marzo</th>\n",
              "      <th>abril</th>\n",
              "      <th>mayo</th>\n",
              "      <th>junio</th>\n",
              "      <th>...</th>\n",
              "      <th>colision_animal</th>\n",
              "      <th>colision_objeto_fijo</th>\n",
              "      <th>volcadura</th>\n",
              "      <th>caida_pasajero</th>\n",
              "      <th>salida_camino</th>\n",
              "      <th>incendio</th>\n",
              "      <th>colision_ferrocarril</th>\n",
              "      <th>colision_con_motocicleta</th>\n",
              "      <th>colision_ciclista</th>\n",
              "      <th>otro_tipo_de_accidente</th>\n",
              "    </tr>\n",
              "  </thead>\n",
              "  <tbody>\n",
              "    <tr>\n",
              "      <th>0</th>\n",
              "      <td>14818.0</td>\n",
              "      <td>0.755837</td>\n",
              "      <td>6.579835</td>\n",
              "      <td>92.664327</td>\n",
              "      <td>8.719125</td>\n",
              "      <td>9.407477</td>\n",
              "      <td>8.550412</td>\n",
              "      <td>8.705628</td>\n",
              "      <td>9.063301</td>\n",
              "      <td>7.659603</td>\n",
              "      <td>...</td>\n",
              "      <td>0.310433</td>\n",
              "      <td>15.643137</td>\n",
              "      <td>1.585909</td>\n",
              "      <td>0.485896</td>\n",
              "      <td>7.058982</td>\n",
              "      <td>0.087731</td>\n",
              "      <td>0.080983</td>\n",
              "      <td>4.926441</td>\n",
              "      <td>0.614118</td>\n",
              "      <td>0.593872</td>\n",
              "    </tr>\n",
              "    <tr>\n",
              "      <th>1</th>\n",
              "      <td>13990.0</td>\n",
              "      <td>0.872051</td>\n",
              "      <td>6.997856</td>\n",
              "      <td>92.130093</td>\n",
              "      <td>7.033595</td>\n",
              "      <td>7.062187</td>\n",
              "      <td>8.191565</td>\n",
              "      <td>7.526805</td>\n",
              "      <td>7.190851</td>\n",
              "      <td>7.762688</td>\n",
              "      <td>...</td>\n",
              "      <td>0.278771</td>\n",
              "      <td>13.466762</td>\n",
              "      <td>1.844174</td>\n",
              "      <td>0.607577</td>\n",
              "      <td>7.977127</td>\n",
              "      <td>0.057184</td>\n",
              "      <td>0.107219</td>\n",
              "      <td>5.067906</td>\n",
              "      <td>0.514653</td>\n",
              "      <td>0.750536</td>\n",
              "    </tr>\n",
              "    <tr>\n",
              "      <th>2</th>\n",
              "      <td>15185.0</td>\n",
              "      <td>0.961475</td>\n",
              "      <td>6.499835</td>\n",
              "      <td>92.538690</td>\n",
              "      <td>8.264735</td>\n",
              "      <td>7.658874</td>\n",
              "      <td>8.890352</td>\n",
              "      <td>8.047415</td>\n",
              "      <td>7.922292</td>\n",
              "      <td>8.580836</td>\n",
              "      <td>...</td>\n",
              "      <td>0.217320</td>\n",
              "      <td>14.507738</td>\n",
              "      <td>1.712216</td>\n",
              "      <td>0.579519</td>\n",
              "      <td>7.803754</td>\n",
              "      <td>0.111953</td>\n",
              "      <td>0.052684</td>\n",
              "      <td>5.735924</td>\n",
              "      <td>0.599276</td>\n",
              "      <td>0.302931</td>\n",
              "    </tr>\n",
              "    <tr>\n",
              "      <th>3</th>\n",
              "      <td>13402.0</td>\n",
              "      <td>1.134159</td>\n",
              "      <td>7.394419</td>\n",
              "      <td>91.471422</td>\n",
              "      <td>8.961349</td>\n",
              "      <td>9.550813</td>\n",
              "      <td>9.976123</td>\n",
              "      <td>8.356962</td>\n",
              "      <td>8.767348</td>\n",
              "      <td>7.819728</td>\n",
              "      <td>...</td>\n",
              "      <td>0.231309</td>\n",
              "      <td>17.460081</td>\n",
              "      <td>1.947471</td>\n",
              "      <td>0.626772</td>\n",
              "      <td>8.125653</td>\n",
              "      <td>0.074616</td>\n",
              "      <td>0.067154</td>\n",
              "      <td>6.185644</td>\n",
              "      <td>0.716311</td>\n",
              "      <td>0.216386</td>\n",
              "    </tr>\n",
              "    <tr>\n",
              "      <th>4</th>\n",
              "      <td>10050.0</td>\n",
              "      <td>1.462687</td>\n",
              "      <td>8.318408</td>\n",
              "      <td>90.218906</td>\n",
              "      <td>8.706468</td>\n",
              "      <td>10.139304</td>\n",
              "      <td>8.975124</td>\n",
              "      <td>6.955224</td>\n",
              "      <td>6.696517</td>\n",
              "      <td>7.711443</td>\n",
              "      <td>...</td>\n",
              "      <td>0.437811</td>\n",
              "      <td>23.582090</td>\n",
              "      <td>2.716418</td>\n",
              "      <td>0.417910</td>\n",
              "      <td>6.288557</td>\n",
              "      <td>0.189055</td>\n",
              "      <td>0.029851</td>\n",
              "      <td>7.164179</td>\n",
              "      <td>0.855721</td>\n",
              "      <td>0.328358</td>\n",
              "    </tr>\n",
              "  </tbody>\n",
              "</table>\n",
              "<p>5 rows × 62 columns</p>\n",
              "</div>\n",
              "      <button class=\"colab-df-convert\" onclick=\"convertToInteractive('df-e2c423f6-56ed-4ec0-b483-b431b2dae02f')\"\n",
              "              title=\"Convert this dataframe to an interactive table.\"\n",
              "              style=\"display:none;\">\n",
              "        \n",
              "  <svg xmlns=\"http://www.w3.org/2000/svg\" height=\"24px\"viewBox=\"0 0 24 24\"\n",
              "       width=\"24px\">\n",
              "    <path d=\"M0 0h24v24H0V0z\" fill=\"none\"/>\n",
              "    <path d=\"M18.56 5.44l.94 2.06.94-2.06 2.06-.94-2.06-.94-.94-2.06-.94 2.06-2.06.94zm-11 1L8.5 8.5l.94-2.06 2.06-.94-2.06-.94L8.5 2.5l-.94 2.06-2.06.94zm10 10l.94 2.06.94-2.06 2.06-.94-2.06-.94-.94-2.06-.94 2.06-2.06.94z\"/><path d=\"M17.41 7.96l-1.37-1.37c-.4-.4-.92-.59-1.43-.59-.52 0-1.04.2-1.43.59L10.3 9.45l-7.72 7.72c-.78.78-.78 2.05 0 2.83L4 21.41c.39.39.9.59 1.41.59.51 0 1.02-.2 1.41-.59l7.78-7.78 2.81-2.81c.8-.78.8-2.07 0-2.86zM5.41 20L4 18.59l7.72-7.72 1.47 1.35L5.41 20z\"/>\n",
              "  </svg>\n",
              "      </button>\n",
              "      \n",
              "  <style>\n",
              "    .colab-df-container {\n",
              "      display:flex;\n",
              "      flex-wrap:wrap;\n",
              "      gap: 12px;\n",
              "    }\n",
              "\n",
              "    .colab-df-convert {\n",
              "      background-color: #E8F0FE;\n",
              "      border: none;\n",
              "      border-radius: 50%;\n",
              "      cursor: pointer;\n",
              "      display: none;\n",
              "      fill: #1967D2;\n",
              "      height: 32px;\n",
              "      padding: 0 0 0 0;\n",
              "      width: 32px;\n",
              "    }\n",
              "\n",
              "    .colab-df-convert:hover {\n",
              "      background-color: #E2EBFA;\n",
              "      box-shadow: 0px 1px 2px rgba(60, 64, 67, 0.3), 0px 1px 3px 1px rgba(60, 64, 67, 0.15);\n",
              "      fill: #174EA6;\n",
              "    }\n",
              "\n",
              "    [theme=dark] .colab-df-convert {\n",
              "      background-color: #3B4455;\n",
              "      fill: #D2E3FC;\n",
              "    }\n",
              "\n",
              "    [theme=dark] .colab-df-convert:hover {\n",
              "      background-color: #434B5C;\n",
              "      box-shadow: 0px 1px 3px 1px rgba(0, 0, 0, 0.15);\n",
              "      filter: drop-shadow(0px 1px 2px rgba(0, 0, 0, 0.3));\n",
              "      fill: #FFFFFF;\n",
              "    }\n",
              "  </style>\n",
              "\n",
              "      <script>\n",
              "        const buttonEl =\n",
              "          document.querySelector('#df-e2c423f6-56ed-4ec0-b483-b431b2dae02f button.colab-df-convert');\n",
              "        buttonEl.style.display =\n",
              "          google.colab.kernel.accessAllowed ? 'block' : 'none';\n",
              "\n",
              "        async function convertToInteractive(key) {\n",
              "          const element = document.querySelector('#df-e2c423f6-56ed-4ec0-b483-b431b2dae02f');\n",
              "          const dataTable =\n",
              "            await google.colab.kernel.invokeFunction('convertToInteractive',\n",
              "                                                     [key], {});\n",
              "          if (!dataTable) return;\n",
              "\n",
              "          const docLinkHtml = 'Like what you see? Visit the ' +\n",
              "            '<a target=\"_blank\" href=https://colab.research.google.com/notebooks/data_table.ipynb>data table notebook</a>'\n",
              "            + ' to learn more about interactive tables.';\n",
              "          element.innerHTML = '';\n",
              "          dataTable['output_type'] = 'display_data';\n",
              "          await google.colab.output.renderOutput(dataTable, element);\n",
              "          const docLink = document.createElement('div');\n",
              "          docLink.innerHTML = docLinkHtml;\n",
              "          element.appendChild(docLink);\n",
              "        }\n",
              "      </script>\n",
              "    </div>\n",
              "  </div>\n",
              "  "
            ]
          },
          "metadata": {},
          "execution_count": 61
        }
      ],
      "source": [
        "#lectura datos\n",
        "url = 'https://raw.githubusercontent.com/kxjw98/factor/main/relation%20-%20Sheet1%20(7).csv'\n",
        "df = pd.read_csv(url)\n",
        "df.columns\n",
        "df.head()\n",
        "#df.info()"
      ]
    },
    {
      "cell_type": "code",
      "execution_count": null,
      "metadata": {
        "id": "eo7vYSbWlUiN"
      },
      "outputs": [],
      "source": [
        "#error\n",
        "from factor_analyzer.factor_analyzer import calculate_bartlett_sphericity \n",
        "chi_square_value,p_value=calculate_bartlett_sphericity(df) \n",
        "chi_square_value,p_value"
      ]
    },
    {
      "cell_type": "code",
      "execution_count": null,
      "metadata": {
        "colab": {
          "background_save": true
        },
        "id": "lxxTdcyGtjvb"
      },
      "outputs": [],
      "source": [
        "import seaborn as sns\n",
        "plt.figure(figsize=(30,20))\n",
        "c= df.corr()\n",
        "sns.heatmap(c, annot=True, linewidths=.5)\n",
        "df.corr()"
      ]
    },
    {
      "cell_type": "code",
      "execution_count": null,
      "metadata": {
        "id": "v0z1STOJe5w4"
      },
      "outputs": [],
      "source": [
        "#define x and y\n",
        "x=df.drop(['total_acci'], axis=1).values\n",
        "y=df['total_acci'].values"
      ]
    },
    {
      "cell_type": "code",
      "source": [
        "print(x)\n",
        "print(y)"
      ],
      "metadata": {
        "id": "EhCn5A5t_Ts8"
      },
      "execution_count": null,
      "outputs": []
    },
    {
      "cell_type": "code",
      "source": [
        "#Split the data set in training set and test set \n",
        "from sklearn.model_selection import train_test_split\n",
        "x_train,x_test,y_train,y_test=train_test_split(x,y,test_size=1,random_state=0)"
      ],
      "metadata": {
        "id": "ovjS64Q0_ZFr"
      },
      "execution_count": null,
      "outputs": []
    },
    {
      "cell_type": "code",
      "source": [
        "#train the model on the training set \n",
        "from sklearn.linear_model import LinearRegression \n",
        "ml=LinearRegression()\n",
        "ml.fit(x_train,y_train)"
      ],
      "metadata": {
        "colab": {
          "base_uri": "https://localhost:8080/"
        },
        "id": "tbiPTc3YAi5R",
        "outputId": "57543174-2ac2-46b3-e1f3-4e8f4ab0e54c"
      },
      "execution_count": null,
      "outputs": [
        {
          "output_type": "execute_result",
          "data": {
            "text/plain": [
              "LinearRegression()"
            ]
          },
          "metadata": {},
          "execution_count": 114
        }
      ]
    },
    {
      "cell_type": "code",
      "source": [
        "y_pred=ml.predict(x_test)\n",
        "print(y_pred)"
      ],
      "metadata": {
        "colab": {
          "base_uri": "https://localhost:8080/"
        },
        "id": "UFzSmVtWDQ0g",
        "outputId": "3552c01f-2657-4d2e-cb0b-87fb7e7268af"
      },
      "execution_count": null,
      "outputs": [
        {
          "output_type": "stream",
          "name": "stdout",
          "text": [
            "[14271.47559901]\n"
          ]
        }
      ]
    },
    {
      "cell_type": "code",
      "source": [
        "ml.predict([[0.75583749,6.57983534,92.6643272,8.71912539,9.40747739,8.55041166,8.70562829,9.06330139,7.65960319,8.51666892,8.38169793,7.67310028,7.63260899,7.99028209,7.70009448,14.3474153,13.6050749,14.0167364,14.2259414,15.7241193,15.7646106,12.316102,63.9931052,9.04023178,0.79583379,5.28477647,0.30806469,10.3678439,4.64664246,1.27626802,0.06234643,3.57941834,0.38141343,0.26405545,81.8126603,14.3811581,3.80618167,1.6595465,41.1846862,38.7364443,14.7551758,3.66414722,94.6146578,1.15400189,1.74787421,0.80982589,1.67364017,97.9281954,2.07180456,66.9051154,1.70738291,0.31043326,15.6431367,1.58590903,0.48589553,7.05898232,0.08773114,0.08098259,4.92644082,0.61411796,0.59387232]])"
      ],
      "metadata": {
        "colab": {
          "base_uri": "https://localhost:8080/"
        },
        "id": "Ao-k7nM1HbwL",
        "outputId": "470247e0-9c81-4075-eb3b-07bc01ef9ec7"
      },
      "execution_count": null,
      "outputs": [
        {
          "output_type": "execute_result",
          "data": {
            "text/plain": [
              "array([14818.])"
            ]
          },
          "metadata": {},
          "execution_count": 116
        }
      ]
    },
    {
      "cell_type": "code",
      "source": [
        "from sklearn.metrics import r2_score\n",
        "r2_score(y_test,y_pred)"
      ],
      "metadata": {
        "colab": {
          "base_uri": "https://localhost:8080/"
        },
        "id": "8xAu4kKwSXfn",
        "outputId": "99c93211-b91b-4897-fe7c-b2522971d26b"
      },
      "execution_count": null,
      "outputs": [
        {
          "output_type": "stream",
          "name": "stderr",
          "text": [
            "/usr/local/lib/python3.7/dist-packages/sklearn/metrics/_regression.py:796: UndefinedMetricWarning: R^2 score is not well-defined with less than two samples.\n",
            "  warnings.warn(msg, UndefinedMetricWarning)\n"
          ]
        },
        {
          "output_type": "execute_result",
          "data": {
            "text/plain": [
              "nan"
            ]
          },
          "metadata": {},
          "execution_count": 118
        }
      ]
    }
  ],
  "metadata": {
    "colab": {
      "name": "factor.ipynb",
      "provenance": [],
      "authorship_tag": "ABX9TyN14Tzim84fulq/hU5NykR/",
      "include_colab_link": true
    },
    "kernelspec": {
      "display_name": "Python 3",
      "name": "python3"
    },
    "language_info": {
      "name": "python"
    }
  },
  "nbformat": 4,
  "nbformat_minor": 0
}